{
 "cells": [
  {
   "cell_type": "markdown",
   "metadata": {},
   "source": [
    "# DSHS 연합 Inference 코드\n",
    "\n",
    "#### README에 data, weights 폴더 세팅을 공유하였으니 참고 부탁드립니다.\n",
    "#### Run All만 하면 outputs/submission.csv가 생성되어야 합니다.\n",
    "#### 만약 재현에 문제가 있다면 언제든지 cytotoxicity8@kaist.ac.kr으로 연락 부탁드립니다."
   ]
  },
  {
   "cell_type": "code",
   "execution_count": 2,
   "metadata": {},
   "outputs": [
    {
     "name": "stdout",
     "output_type": "stream",
     "text": [
      "\u001b[33mWARNING: The directory '/root/.cache/pip' or its parent directory is not owned or is not writable by the current user. The cache has been disabled. Check the permissions and owner of that directory. If executing pip with sudo, you should use sudo's -H flag.\u001b[0m\u001b[33m\n",
      "\u001b[0mRequirement already satisfied: pandas in /opt/conda/lib/python3.10/site-packages (from -r requirements.txt (line 1)) (2.1.1)\n",
      "Requirement already satisfied: tsai in /opt/conda/lib/python3.10/site-packages (from -r requirements.txt (line 2)) (0.3.7)\n",
      "Requirement already satisfied: sktime in /opt/conda/lib/python3.10/site-packages (from -r requirements.txt (line 3)) (0.23.0)\n",
      "Requirement already satisfied: joblib in /opt/conda/lib/python3.10/site-packages (from -r requirements.txt (line 4)) (1.3.2)\n",
      "Requirement already satisfied: python-dateutil>=2.8.2 in /opt/conda/lib/python3.10/site-packages (from pandas->-r requirements.txt (line 1)) (2.8.2)\n",
      "Requirement already satisfied: tzdata>=2022.1 in /opt/conda/lib/python3.10/site-packages (from pandas->-r requirements.txt (line 1)) (2023.3)\n",
      "Requirement already satisfied: pytz>=2020.1 in /opt/conda/lib/python3.10/site-packages (from pandas->-r requirements.txt (line 1)) (2022.7)\n",
      "Requirement already satisfied: numpy>=1.22.4 in /opt/conda/lib/python3.10/site-packages (from pandas->-r requirements.txt (line 1)) (1.23.5)\n",
      "Requirement already satisfied: imbalanced-learn>=0.8.0 in /opt/conda/lib/python3.10/site-packages (from tsai->-r requirements.txt (line 2)) (0.11.0)\n",
      "Requirement already satisfied: scikit-learn<1.3,>=1.2 in /opt/conda/lib/python3.10/site-packages (from tsai->-r requirements.txt (line 2)) (1.2.2)\n",
      "Requirement already satisfied: pyts>=0.12.0 in /opt/conda/lib/python3.10/site-packages (from tsai->-r requirements.txt (line 2)) (0.13.0)\n",
      "Requirement already satisfied: fastai>=2.7.12 in /opt/conda/lib/python3.10/site-packages (from tsai->-r requirements.txt (line 2)) (2.7.12)\n",
      "Requirement already satisfied: psutil>=5.4.8 in /opt/conda/lib/python3.10/site-packages (from tsai->-r requirements.txt (line 2)) (5.9.0)\n",
      "Requirement already satisfied: torch<2.1,>=1.7 in /opt/conda/lib/python3.10/site-packages (from tsai->-r requirements.txt (line 2)) (2.0.0)\n",
      "Requirement already satisfied: packaging in /opt/conda/lib/python3.10/site-packages (from sktime->-r requirements.txt (line 3)) (23.0)\n",
      "Requirement already satisfied: scipy<2.0.0,>=1.2.0 in /opt/conda/lib/python3.10/site-packages (from sktime->-r requirements.txt (line 3)) (1.11.2)\n",
      "Requirement already satisfied: scikit-base<0.6.0 in /opt/conda/lib/python3.10/site-packages (from sktime->-r requirements.txt (line 3)) (0.5.1)\n",
      "Requirement already satisfied: pyyaml in /opt/conda/lib/python3.10/site-packages (from fastai>=2.7.12->tsai->-r requirements.txt (line 2)) (6.0)\n",
      "Requirement already satisfied: matplotlib in /opt/conda/lib/python3.10/site-packages (from fastai>=2.7.12->tsai->-r requirements.txt (line 2)) (3.8.0)\n",
      "Requirement already satisfied: fastdownload<2,>=0.0.5 in /opt/conda/lib/python3.10/site-packages (from fastai>=2.7.12->tsai->-r requirements.txt (line 2)) (0.0.7)\n",
      "Requirement already satisfied: fastprogress>=0.2.4 in /opt/conda/lib/python3.10/site-packages (from fastai>=2.7.12->tsai->-r requirements.txt (line 2)) (1.0.3)\n",
      "Requirement already satisfied: fastcore<1.6,>=1.5.29 in /opt/conda/lib/python3.10/site-packages (from fastai>=2.7.12->tsai->-r requirements.txt (line 2)) (1.5.29)\n",
      "Requirement already satisfied: requests in /opt/conda/lib/python3.10/site-packages (from fastai>=2.7.12->tsai->-r requirements.txt (line 2)) (2.29.0)\n",
      "Requirement already satisfied: pillow>6.0.0 in /opt/conda/lib/python3.10/site-packages (from fastai>=2.7.12->tsai->-r requirements.txt (line 2)) (9.4.0)\n",
      "Requirement already satisfied: pip in /opt/conda/lib/python3.10/site-packages (from fastai>=2.7.12->tsai->-r requirements.txt (line 2)) (23.0.1)\n",
      "Requirement already satisfied: spacy<4 in /opt/conda/lib/python3.10/site-packages (from fastai>=2.7.12->tsai->-r requirements.txt (line 2)) (3.6.1)\n",
      "Requirement already satisfied: torchvision>=0.8.2 in /opt/conda/lib/python3.10/site-packages (from fastai>=2.7.12->tsai->-r requirements.txt (line 2)) (0.15.0)\n",
      "Requirement already satisfied: threadpoolctl>=2.0.0 in /opt/conda/lib/python3.10/site-packages (from imbalanced-learn>=0.8.0->tsai->-r requirements.txt (line 2)) (3.2.0)\n",
      "Requirement already satisfied: six>=1.5 in /opt/conda/lib/python3.10/site-packages (from python-dateutil>=2.8.2->pandas->-r requirements.txt (line 1)) (1.16.0)\n",
      "Requirement already satisfied: numba>=0.55.2 in /opt/conda/lib/python3.10/site-packages (from pyts>=0.12.0->tsai->-r requirements.txt (line 2)) (0.58.0)\n",
      "Requirement already satisfied: filelock in /opt/conda/lib/python3.10/site-packages (from torch<2.1,>=1.7->tsai->-r requirements.txt (line 2)) (3.9.0)\n",
      "Requirement already satisfied: typing-extensions in /opt/conda/lib/python3.10/site-packages (from torch<2.1,>=1.7->tsai->-r requirements.txt (line 2)) (4.8.0)\n",
      "Requirement already satisfied: sympy in /opt/conda/lib/python3.10/site-packages (from torch<2.1,>=1.7->tsai->-r requirements.txt (line 2)) (1.11.1)\n",
      "Requirement already satisfied: networkx in /opt/conda/lib/python3.10/site-packages (from torch<2.1,>=1.7->tsai->-r requirements.txt (line 2)) (3.0)\n",
      "Requirement already satisfied: jinja2 in /opt/conda/lib/python3.10/site-packages (from torch<2.1,>=1.7->tsai->-r requirements.txt (line 2)) (3.1.2)\n",
      "Requirement already satisfied: llvmlite<0.42,>=0.41.0dev0 in /opt/conda/lib/python3.10/site-packages (from numba>=0.55.2->pyts>=0.12.0->tsai->-r requirements.txt (line 2)) (0.41.0)\n",
      "Requirement already satisfied: pathy>=0.10.0 in /opt/conda/lib/python3.10/site-packages (from spacy<4->fastai>=2.7.12->tsai->-r requirements.txt (line 2)) (0.10.2)\n",
      "Requirement already satisfied: murmurhash<1.1.0,>=0.28.0 in /opt/conda/lib/python3.10/site-packages (from spacy<4->fastai>=2.7.12->tsai->-r requirements.txt (line 2)) (1.0.10)\n",
      "Requirement already satisfied: smart-open<7.0.0,>=5.2.1 in /opt/conda/lib/python3.10/site-packages (from spacy<4->fastai>=2.7.12->tsai->-r requirements.txt (line 2)) (6.4.0)\n",
      "Requirement already satisfied: setuptools in /opt/conda/lib/python3.10/site-packages (from spacy<4->fastai>=2.7.12->tsai->-r requirements.txt (line 2)) (66.0.0)\n",
      "Requirement already satisfied: spacy-legacy<3.1.0,>=3.0.11 in /opt/conda/lib/python3.10/site-packages (from spacy<4->fastai>=2.7.12->tsai->-r requirements.txt (line 2)) (3.0.12)\n",
      "Requirement already satisfied: thinc<8.2.0,>=8.1.8 in /opt/conda/lib/python3.10/site-packages (from spacy<4->fastai>=2.7.12->tsai->-r requirements.txt (line 2)) (8.1.12)\n",
      "Requirement already satisfied: wasabi<1.2.0,>=0.9.1 in /opt/conda/lib/python3.10/site-packages (from spacy<4->fastai>=2.7.12->tsai->-r requirements.txt (line 2)) (1.1.2)\n",
      "Requirement already satisfied: tqdm<5.0.0,>=4.38.0 in /opt/conda/lib/python3.10/site-packages (from spacy<4->fastai>=2.7.12->tsai->-r requirements.txt (line 2)) (4.65.0)\n",
      "Requirement already satisfied: srsly<3.0.0,>=2.4.3 in /opt/conda/lib/python3.10/site-packages (from spacy<4->fastai>=2.7.12->tsai->-r requirements.txt (line 2)) (2.4.8)\n",
      "Requirement already satisfied: preshed<3.1.0,>=3.0.2 in /opt/conda/lib/python3.10/site-packages (from spacy<4->fastai>=2.7.12->tsai->-r requirements.txt (line 2)) (3.0.9)\n",
      "Requirement already satisfied: pydantic!=1.8,!=1.8.1,<3.0.0,>=1.7.4 in /opt/conda/lib/python3.10/site-packages (from spacy<4->fastai>=2.7.12->tsai->-r requirements.txt (line 2)) (2.3.0)\n",
      "Requirement already satisfied: catalogue<2.1.0,>=2.0.6 in /opt/conda/lib/python3.10/site-packages (from spacy<4->fastai>=2.7.12->tsai->-r requirements.txt (line 2)) (2.0.9)\n",
      "Requirement already satisfied: typer<0.10.0,>=0.3.0 in /opt/conda/lib/python3.10/site-packages (from spacy<4->fastai>=2.7.12->tsai->-r requirements.txt (line 2)) (0.9.0)\n",
      "Requirement already satisfied: cymem<2.1.0,>=2.0.2 in /opt/conda/lib/python3.10/site-packages (from spacy<4->fastai>=2.7.12->tsai->-r requirements.txt (line 2)) (2.0.8)\n",
      "Requirement already satisfied: spacy-loggers<2.0.0,>=1.0.0 in /opt/conda/lib/python3.10/site-packages (from spacy<4->fastai>=2.7.12->tsai->-r requirements.txt (line 2)) (1.0.5)\n",
      "Requirement already satisfied: langcodes<4.0.0,>=3.2.0 in /opt/conda/lib/python3.10/site-packages (from spacy<4->fastai>=2.7.12->tsai->-r requirements.txt (line 2)) (3.3.0)\n",
      "Requirement already satisfied: certifi>=2017.4.17 in /opt/conda/lib/python3.10/site-packages (from requests->fastai>=2.7.12->tsai->-r requirements.txt (line 2)) (2023.5.7)\n",
      "Requirement already satisfied: urllib3<1.27,>=1.21.1 in /opt/conda/lib/python3.10/site-packages (from requests->fastai>=2.7.12->tsai->-r requirements.txt (line 2)) (1.26.15)\n",
      "Requirement already satisfied: charset-normalizer<4,>=2 in /opt/conda/lib/python3.10/site-packages (from requests->fastai>=2.7.12->tsai->-r requirements.txt (line 2)) (2.0.4)\n",
      "Requirement already satisfied: idna<4,>=2.5 in /opt/conda/lib/python3.10/site-packages (from requests->fastai>=2.7.12->tsai->-r requirements.txt (line 2)) (3.4)\n",
      "Requirement already satisfied: MarkupSafe>=2.0 in /opt/conda/lib/python3.10/site-packages (from jinja2->torch<2.1,>=1.7->tsai->-r requirements.txt (line 2)) (2.1.1)\n",
      "Requirement already satisfied: fonttools>=4.22.0 in /opt/conda/lib/python3.10/site-packages (from matplotlib->fastai>=2.7.12->tsai->-r requirements.txt (line 2)) (4.42.1)\n",
      "Requirement already satisfied: kiwisolver>=1.0.1 in /opt/conda/lib/python3.10/site-packages (from matplotlib->fastai>=2.7.12->tsai->-r requirements.txt (line 2)) (1.4.5)\n",
      "Requirement already satisfied: cycler>=0.10 in /opt/conda/lib/python3.10/site-packages (from matplotlib->fastai>=2.7.12->tsai->-r requirements.txt (line 2)) (0.11.0)\n",
      "Requirement already satisfied: contourpy>=1.0.1 in /opt/conda/lib/python3.10/site-packages (from matplotlib->fastai>=2.7.12->tsai->-r requirements.txt (line 2)) (1.1.1)\n",
      "Requirement already satisfied: pyparsing>=2.3.1 in /opt/conda/lib/python3.10/site-packages (from matplotlib->fastai>=2.7.12->tsai->-r requirements.txt (line 2)) (3.1.1)\n",
      "Requirement already satisfied: mpmath>=0.19 in /opt/conda/lib/python3.10/site-packages (from sympy->torch<2.1,>=1.7->tsai->-r requirements.txt (line 2)) (1.3.0)\n",
      "Requirement already satisfied: annotated-types>=0.4.0 in /opt/conda/lib/python3.10/site-packages (from pydantic!=1.8,!=1.8.1,<3.0.0,>=1.7.4->spacy<4->fastai>=2.7.12->tsai->-r requirements.txt (line 2)) (0.5.0)\n",
      "Requirement already satisfied: pydantic-core==2.6.3 in /opt/conda/lib/python3.10/site-packages (from pydantic!=1.8,!=1.8.1,<3.0.0,>=1.7.4->spacy<4->fastai>=2.7.12->tsai->-r requirements.txt (line 2)) (2.6.3)\n",
      "Requirement already satisfied: confection<1.0.0,>=0.0.1 in /opt/conda/lib/python3.10/site-packages (from thinc<8.2.0,>=8.1.8->spacy<4->fastai>=2.7.12->tsai->-r requirements.txt (line 2)) (0.1.3)\n",
      "Requirement already satisfied: blis<0.8.0,>=0.7.8 in /opt/conda/lib/python3.10/site-packages (from thinc<8.2.0,>=8.1.8->spacy<4->fastai>=2.7.12->tsai->-r requirements.txt (line 2)) (0.7.11)\n",
      "Requirement already satisfied: click<9.0.0,>=7.1.1 in /opt/conda/lib/python3.10/site-packages (from typer<0.10.0,>=0.3.0->spacy<4->fastai>=2.7.12->tsai->-r requirements.txt (line 2)) (8.1.7)\n",
      "\u001b[33mWARNING: Running pip as the 'root' user can result in broken permissions and conflicting behaviour with the system package manager. It is recommended to use a virtual environment instead: https://pip.pypa.io/warnings/venv\u001b[0m\u001b[33m\n",
      "\u001b[0m"
     ]
    }
   ],
   "source": [
    "!pip install -r requirements.txt"
   ]
  },
  {
   "cell_type": "code",
   "execution_count": 2,
   "metadata": {},
   "outputs": [],
   "source": [
    "%load_ext autoreload\n",
    "%autoreload 2\n",
    "\n",
    "import numpy as np\n",
    "import pandas as pd\n",
    "import torch\n",
    "\n",
    "from tqdm import tqdm\n",
    "\n",
    "from tsai.all import *\n",
    "\n",
    "from dataset import SNUH_Dataset\n",
    "from resnet import ResNet1d\n",
    "from utils import flattening_prediction, validate_child, validate_adult\n",
    "import config\n",
    "\n",
    "import os\n",
    "import joblib"
   ]
  },
  {
   "cell_type": "code",
   "execution_count": 3,
   "metadata": {},
   "outputs": [],
   "source": [
    "prediction_df = pd.read_csv(os.path.join(config.DATA_PATH, config.INFO_FILENAME), index_col=0)\n",
    "adult_model_columns = ['adult_resnet1', 'adult_resnet2', 'adult_inception1',\n",
    "                  'adult_inception2', 'adult_rocket1', 'adult_rocket2']\n",
    "                  \n",
    "child_model_columns = ['child_resnet', 'child_inception', 'child_rocket']\n",
    "prediction_df = prediction_df.assign(**dict.fromkeys(adult_model_columns, None))\n",
    "prediction_df = prediction_df.assign(**dict.fromkeys(child_model_columns, None))\n",
    "\n",
    "device = config.DEVICE"
   ]
  },
  {
   "cell_type": "markdown",
   "metadata": {},
   "source": [
    "# Inference of a child dataset\n",
    "\n",
    "### 저희는 .zip 파일을 인풋으로 받고 있습니다. 대회에서 제공된 ecg_child_numpy_valid.zip 형태를 활용해주시면 감사하겠습니다."
   ]
  },
  {
   "cell_type": "code",
   "execution_count": 5,
   "metadata": {},
   "outputs": [
    {
     "name": "stdout",
     "output_type": "stream",
     "text": [
      "Butterworth filter\n"
     ]
    },
    {
     "name": "stderr",
     "output_type": "stream",
     "text": [
      "100%|██████████| 1100/1100 [00:03<00:00, 337.70it/s]\n"
     ]
    }
   ],
   "source": [
    "child_dataset = SNUH_Dataset(data_path=config.DATA_PATH, ecg_filename=config.CHILD_ECG_FILENAME, butterworth=True)"
   ]
  },
  {
   "cell_type": "code",
   "execution_count": 6,
   "metadata": {},
   "outputs": [],
   "source": [
    "child_loader = torch.utils.data.DataLoader(\n",
    "    child_dataset,\n",
    "    batch_size=config.BATCH_SIZE,\n",
    "    shuffle=False,\n",
    "    num_workers=1,\n",
    "    drop_last=False,\n",
    ")"
   ]
  },
  {
   "cell_type": "code",
   "execution_count": 7,
   "metadata": {},
   "outputs": [],
   "source": [
    "resnet = ResNet1d(input_dim=(12, 5000),\n",
    "                     blocks_dim=list(zip([64, 128, 196, 256, 320], [5000, 1250, 250, 50, 10])),\n",
    "                     kernel_size=17,\n",
    "                     dropout_rate=0.5).to(device)\n",
    "\n",
    "inception = InceptionTimePlus(c_in=12, c_out=1, seq_len=5000, nf=32, \n",
    "                          fc_dropout=0.5, nb_filters=None, depth=5).to(device)"
   ]
  },
  {
   "cell_type": "code",
   "execution_count": 8,
   "metadata": {},
   "outputs": [
    {
     "data": {
      "text/plain": [
       "<All keys matched successfully>"
      ]
     },
     "execution_count": 8,
     "metadata": {},
     "output_type": "execute_result"
    }
   ],
   "source": [
    "resnet.load_state_dict(torch.load('weights/child/resnet_child_69_model.pth')['model'])\n",
    "inception.load_state_dict(torch.load('weights/child/inception_child_79_model.pth')['model'])"
   ]
  },
  {
   "cell_type": "code",
   "execution_count": 9,
   "metadata": {},
   "outputs": [],
   "source": [
    "rocket = joblib.load('weights/child/rocket_child_ensemble5.pkl')"
   ]
  },
  {
   "cell_type": "code",
   "execution_count": 10,
   "metadata": {},
   "outputs": [
    {
     "name": "stderr",
     "output_type": "stream",
     "text": [
      "  0%|          | 0/5 [00:00<?, ?it/s]OMP: Info #276: omp_set_nested routine deprecated, please use omp_set_max_active_levels instead.\n",
      "100%|██████████| 5/5 [05:27<00:00, 65.46s/it]\n"
     ]
    }
   ],
   "source": [
    "resnet.eval()\n",
    "inception.eval()\n",
    "\n",
    "for ecg, idx in tqdm(child_loader):\n",
    "    ecg = ecg.float().cuda()\n",
    "\n",
    "    with torch.no_grad():\n",
    "        pred_age_resnet1 = resnet(ecg)\n",
    "        pred_age_inception1 = inception(ecg)\n",
    "        pred_age_rocket1 = rocket.predict(ecg.cpu().detach().numpy())\n",
    "        \n",
    "        pred_age_resnet1 = flattening_prediction(pred_age_resnet1, idx)\n",
    "        pred_age_inception1 = flattening_prediction(pred_age_inception1, idx)\n",
    "\n",
    "\n",
    "    for model, pred in zip(child_model_columns, [pred_age_resnet1, pred_age_inception1, pred_age_rocket1]):\n",
    "        prediction_df.loc[idx, model] = pred"
   ]
  },
  {
   "cell_type": "code",
   "execution_count": 11,
   "metadata": {},
   "outputs": [],
   "source": [
    "child_pred = (prediction_df[\"child_resnet\"] +prediction_df['child_inception'] + prediction_df[\"child_rocket\"]) / 3.0\n",
    "child_pred=  child_pred[child_pred.notna()]\n",
    "\n",
    "prediction_df.loc[child_pred.index, \"AGE\"] = child_pred"
   ]
  },
  {
   "cell_type": "code",
   "execution_count": 12,
   "metadata": {},
   "outputs": [],
   "source": [
    "tmp = prediction_df"
   ]
  },
  {
   "cell_type": "code",
   "execution_count": 13,
   "metadata": {},
   "outputs": [
    {
     "name": "stdout",
     "output_type": "stream",
     "text": [
      "ecg_child_8791 includes a channel with only zeros.\n"
     ]
    }
   ],
   "source": [
    "prediction_df = validate_child(child_dataset, prediction_df).copy()"
   ]
  },
  {
   "cell_type": "code",
   "execution_count": 14,
   "metadata": {},
   "outputs": [],
   "source": [
    "assert sum(prediction_df[\"AGE\"]<1/12) == 0"
   ]
  },
  {
   "cell_type": "markdown",
   "metadata": {},
   "source": [
    "# Inference of a adult dataset\n",
    "\n",
    "### 저희는 .zip 파일을 인풋으로 받고 있습니다. 대회에서 제공된 ecg_adult_numpy_valid.zip 형태를 활용해주시면 감사하겠습니다."
   ]
  },
  {
   "cell_type": "code",
   "execution_count": 15,
   "metadata": {},
   "outputs": [],
   "source": [
    "adult_dataset = SNUH_Dataset(data_path=config.DATA_PATH, ecg_filename=config.ADULT_ECG_FILENAME, butterworth=False)"
   ]
  },
  {
   "cell_type": "code",
   "execution_count": 16,
   "metadata": {},
   "outputs": [],
   "source": [
    "adult_loader = torch.utils.data.DataLoader(\n",
    "    adult_dataset, \n",
    "    batch_size=config.BATCH_SIZE,\n",
    "    shuffle=False,\n",
    "    num_workers=1,\n",
    "    drop_last=False,\n",
    ")"
   ]
  },
  {
   "cell_type": "code",
   "execution_count": 17,
   "metadata": {},
   "outputs": [],
   "source": [
    "resnet1 = ResNet1d(input_dim=(12, 5000),\n",
    "                     blocks_dim=list(zip([64, 128, 196, 256, 320], [5000, 1250, 250, 50, 10])),\n",
    "                     kernel_size=17,\n",
    "                     dropout_rate=0.5).to(device)\n",
    "\n",
    "resnet2 = ResNet1d(input_dim=(12, 5000),\n",
    "                     blocks_dim=list(zip([64, 128, 196, 256, 320], [5000, 1250, 250, 50, 10])),\n",
    "                     kernel_size=17,\n",
    "                     dropout_rate=0.5).to(device)\n",
    "\n",
    "inception1 = InceptionTimePlus(c_in=12, c_out=1, seq_len=5000, nf=32,\n",
    "                               conv_dropout = 0.2, fc_dropout=0.4, nb_filters=None, \n",
    "                               depth=5).to(device)\n",
    "\n",
    "inception2 = InceptionTimePlus(c_in=12, c_out=1, seq_len=5000, nf=32,\n",
    "                               fc_dropout=0.5, nb_filters=None,\n",
    "                               depth=5).to(device)"
   ]
  },
  {
   "cell_type": "code",
   "execution_count": 18,
   "metadata": {},
   "outputs": [
    {
     "data": {
      "text/plain": [
       "<All keys matched successfully>"
      ]
     },
     "execution_count": 18,
     "metadata": {},
     "output_type": "execute_result"
    }
   ],
   "source": [
    "resnet1.load_state_dict(torch.load('weights/adult/resnet1_39_model.pth')['model'])\n",
    "resnet2.load_state_dict(torch.load('weights/adult/resnet2_39_model.pth')['model'])\n",
    "\n",
    "inception1.load_state_dict(torch.load('weights/adult/inception1_39_model.pth')['model'])\n",
    "inception2.load_state_dict(torch.load('weights/adult/inception2_39_model.pth')['model'])"
   ]
  },
  {
   "cell_type": "code",
   "execution_count": 19,
   "metadata": {},
   "outputs": [],
   "source": [
    "rocket1 = joblib.load('weights/adult/rocket1_features10000_dilation32_ensemble5.pkl')\n",
    "rocket2 = joblib.load('weights/adult/rocket2_features12000_dilation36_ensemble3.pkl')"
   ]
  },
  {
   "cell_type": "code",
   "execution_count": 20,
   "metadata": {},
   "outputs": [
    {
     "name": "stderr",
     "output_type": "stream",
     "text": [
      "100%|██████████| 18/18 [28:04<00:00, 93.58s/it]\n"
     ]
    }
   ],
   "source": [
    "resnet1.eval()\n",
    "resnet2.eval()\n",
    "inception1.eval()\n",
    "inception2.eval()\n",
    "\n",
    "for ecg, idx in tqdm(adult_loader):\n",
    "    ecg = ecg.float().cuda()\n",
    "\n",
    "    with torch.no_grad():\n",
    "\n",
    "        pred_age_resnet1 = resnet1(ecg)\n",
    "        pred_age_resnet2 = resnet2(ecg)\n",
    "\n",
    "        pred_age_inception1 = inception1(ecg)\n",
    "        pred_age_inception2 = inception2(ecg)\n",
    "        \n",
    "        pred_age_rocket1 = rocket1.predict(ecg.cpu().detach().numpy())\n",
    "        pred_age_rocket2 = rocket2.predict(ecg.cpu().detach().numpy())\n",
    "        \n",
    "        pred_age_resnet1 = flattening_prediction(pred_age_resnet1, idx)\n",
    "        pred_age_resnet2 = flattening_prediction(pred_age_resnet2, idx)\n",
    "        pred_age_inception1 = flattening_prediction(pred_age_inception1, idx)\n",
    "        pred_age_inception2 = flattening_prediction(pred_age_inception2, idx)\n",
    "\n",
    "    for model, pred in zip(adult_model_columns, [pred_age_resnet1, pred_age_resnet2, pred_age_inception1,\n",
    "                 pred_age_inception2, pred_age_rocket1, pred_age_rocket2]):\n",
    "        \n",
    "        prediction_df.loc[idx, model] = pred"
   ]
  },
  {
   "cell_type": "code",
   "execution_count": 21,
   "metadata": {},
   "outputs": [],
   "source": [
    "adult_pred = (prediction_df[\"adult_resnet1\"] + prediction_df[\"adult_resnet2\"] + prediction_df[\"adult_inception1\"] + \\\n",
    "    prediction_df['adult_inception2'] + prediction_df['adult_rocket1'] + prediction_df['adult_rocket2'])/6.0\n",
    "adult_pred=  adult_pred[adult_pred.notna()]\n",
    "\n",
    "\n",
    "prediction_df.loc[adult_pred.index, \"AGE\"] = adult_pred"
   ]
  },
  {
   "cell_type": "code",
   "execution_count": 22,
   "metadata": {},
   "outputs": [
    {
     "name": "stdout",
     "output_type": "stream",
     "text": [
      "ecg_adult_36819 includes a channel with only zeros.\n"
     ]
    }
   ],
   "source": [
    "prediction_df = validate_adult(adult_dataset, prediction_df).copy()"
   ]
  },
  {
   "cell_type": "code",
   "execution_count": 23,
   "metadata": {},
   "outputs": [],
   "source": [
    "assert sum(prediction_df[\"AGE\"]>105) == 0"
   ]
  },
  {
   "cell_type": "code",
   "execution_count": 24,
   "metadata": {},
   "outputs": [],
   "source": [
    "# AGE에는 결측값이 반드시 없어야 합니다.\n",
    "assert sum(prediction_df[\"AGE\"].isna()) == 0"
   ]
  },
  {
   "cell_type": "code",
   "execution_count": 5,
   "metadata": {},
   "outputs": [],
   "source": [
    "prediction_df.to_csv(os.path.join(config.OUTPUT_PATH, \"submission_check1.csv\"))\n",
    "prediction_df[[\"GENDER\", \"AGE\"]].to_csv(os.path.join(config.OUTPUT_PATH, \"submission1.csv\"))"
   ]
  }
 ],
 "metadata": {
  "kernelspec": {
   "display_name": "base",
   "language": "python",
   "name": "python3"
  },
  "language_info": {
   "codemirror_mode": {
    "name": "ipython",
    "version": 3
   },
   "file_extension": ".py",
   "mimetype": "text/x-python",
   "name": "python",
   "nbconvert_exporter": "python",
   "pygments_lexer": "ipython3",
   "version": "3.10.11"
  },
  "orig_nbformat": 4
 },
 "nbformat": 4,
 "nbformat_minor": 2
}
